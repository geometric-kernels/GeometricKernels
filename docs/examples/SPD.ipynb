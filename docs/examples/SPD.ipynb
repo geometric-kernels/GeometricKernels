{
 "cells": [
  {
   "cell_type": "code",
   "execution_count": 1,
   "id": "6fc53c9f",
   "metadata": {},
   "outputs": [],
   "source": [
    "# To run this in Google Colab, uncomment the following line\n",
    "# !pip install geometric_kernels\n",
    "\n",
    "# If you want to use a version of the library from a specific branch on GitHub,\n",
    "# say, from the \"devel\" branch, uncomment the line below instead\n",
    "# !pip install \"git+https://github.com/geometric-kernels/GeometricKernels@devel\""
   ]
  },
  {
   "cell_type": "markdown",
   "id": "71d7d69d",
   "metadata": {},
   "source": [
    "# Matérn and Heat Kernels on the Manifold of Symmetric Positive Definite Matrices (SPD)\n",
    "\n",
    "This notebook shows how define and evaluate kernels on the manifold of symmetric positive definite matrices $\\mathbb{SPD}(2)$ of size $2 \\times 2$.\n",
    "\n",
    "Handling higher-dimensional manifolds of symmetric positive definite matrices $\\mathbb{SPD}(d)$ for $d > 2$ is essentially the same.\n",
    "\n",
    "**Note:** the points on the hyperbolic space $\\mathbb{SPD}(d)$ are represented by matrices (`array`s of the suitable backend) or size $d \\times d$.\n",
    "\n",
    "We use the **numpy** backend here."
   ]
  },
  {
   "cell_type": "markdown",
   "id": "151e43ef",
   "metadata": {},
   "source": [
    "<!--TABLE OF CONTENTS-->\n",
    "## Contents\n",
    "- [**Basics**](#Basics)\n",
    "  - [Defining a Space](#Defining-a-Space)\n",
    "  - [Defining a Kernel](#Defining-a-Kernel)\n",
    "  - [Evaluating Kernels on Random Inputs](#Evaluating-Kernels-on-Random-Inputs)\n",
    "- [**Feature Maps and Sampling**](#Feature-Maps-and-Sampling)\n",
    "  - [Defining a Feature Map](#Defining-a-Feature-Map)\n",
    "  - [Efficient Sampling using Feature Maps](#Efficient-Sampling-using-Feature-Maps)\n",
    "- [**Citation**](#Citation)"
   ]
  },
  {
   "cell_type": "markdown",
   "id": "38935ff1-1f9f-491e-8a9a-54713c017396",
   "metadata": {},
   "source": [
    "## Basics"
   ]
  },
  {
   "cell_type": "code",
   "execution_count": 2,
   "id": "08952878",
   "metadata": {},
   "outputs": [
    {
     "name": "stderr",
     "output_type": "stream",
     "text": [
      "INFO (geometric_kernels): Numpy backend is enabled, as always. To enable other backends, don't forget `import geometric_kernels.*backend name*`.\n"
     ]
    }
   ],
   "source": [
    "# Import a backend, we use numpy in this example.\n",
    "import numpy as np\n",
    "# Import the geometric_kernels backend.\n",
    "import geometric_kernels\n",
    "\n",
    "# Note: if you are using a backend other than numpy,\n",
    "# you _must_ uncomment one of the following lines\n",
    "# import geometric_kernels.tensorflow\n",
    "# import geometric_kernels.torch\n",
    "# import geometric_kernels.jax\n",
    "\n",
    "# Import a space and an appropriate kernel.\n",
    "from geometric_kernels.spaces import SymmetricPositiveDefiniteMatrices\n",
    "from geometric_kernels.kernels import MaternGeometricKernel\n",
    "\n",
    "import matplotlib as mpl\n",
    "import matplotlib.pyplot as plt\n",
    "\n",
    "import geomstats.visualization as visualization"
   ]
  },
  {
   "cell_type": "markdown",
   "id": "f8dcff13",
   "metadata": {},
   "source": [
    "### Defining a Space"
   ]
  },
  {
   "cell_type": "markdown",
   "id": "82ff9943",
   "metadata": {},
   "source": [
    "First we create a GeometricKernels `space` that corresponds to the 2-dimensional manifold of symmetric positive definite matrices $\\mathbb{SPD}(2)$."
   ]
  },
  {
   "cell_type": "code",
   "execution_count": 3,
   "id": "f19ae5a4",
   "metadata": {},
   "outputs": [],
   "source": [
    "spd = SymmetricPositiveDefiniteMatrices(2)"
   ]
  },
  {
   "cell_type": "markdown",
   "id": "505d0531",
   "metadata": {},
   "source": [
    "### Defining a Kernel"
   ]
  },
  {
   "cell_type": "markdown",
   "id": "36abe8e1",
   "metadata": {},
   "source": [
    "To initialize `MaternGeometricKernel` you need to provide a `Space` object, in our case this is the `hyperbolic_space` we have just created above.\n",
    "Additionally, there is a mandatory keyword argument `key` which should be equal to a random generator that is **specific to the backend you are using**.\n",
    "This is because `MaternGeometricKernel` on non-compact symmetric spaces is a random Monte Carlo approximation. Notably, this implies that kernel can be (slightly) different every time.\n",
    "\n",
    "There is also an optional parameter `num` which determines the order of approximation of the kernel (*number of levels*).\n",
    "There is a sensible default value for each of the spaces in the library, so change it only if you know what you are doing.\n",
    "\n",
    "A brief account on theory behind the kernels on non-compact symmetric spaces (which hyperbolic spaces are instances of) can be found on this [documentation page](https://geometric-kernels.github.io/GeometricKernels/theory/symmetric.html)."
   ]
  },
  {
   "cell_type": "markdown",
   "id": "7c5016ff",
   "metadata": {},
   "source": [
    "First, we define randomness"
   ]
  },
  {
   "cell_type": "code",
   "execution_count": 4,
   "id": "80dfe43e",
   "metadata": {},
   "outputs": [],
   "source": [
    "key = np.random.RandomState(seed=1234)"
   ]
  },
  {
   "cell_type": "markdown",
   "id": "c0734b1b",
   "metadata": {},
   "source": [
    "Now we are ready to create a generic Matérn kernel."
   ]
  },
  {
   "cell_type": "code",
   "execution_count": 5,
   "id": "9c5db65b",
   "metadata": {},
   "outputs": [],
   "source": [
    "kernel = MaternGeometricKernel(spd, key=key)"
   ]
  },
  {
   "cell_type": "markdown",
   "id": "9a9a2e46",
   "metadata": {},
   "source": [
    "To support JAX, our classes do not keep variables you might want to differentiate over in their state.\n",
    "Instead, some methods take a `params` dictionary as input, returning its modified version.\n",
    "\n",
    "The next line initializes the dictionary of kernel parameters `params` with some default values.\n",
    "\n",
    "**Note:** our kernels do not provide the outputscale/variance parameter frequently used in Gaussian processes.\n",
    "However, it is usually trivial to add it by multiplying the kernel by an (optimizable) constant."
   ]
  },
  {
   "cell_type": "code",
   "execution_count": 6,
   "id": "bf265c17",
   "metadata": {},
   "outputs": [
    {
     "name": "stdout",
     "output_type": "stream",
     "text": [
      "params: {'nu': array(inf), 'lengthscale': array(1.)}\n"
     ]
    }
   ],
   "source": [
    "params = kernel.init_params()\n",
    "print('params:', params)"
   ]
  },
  {
   "cell_type": "markdown",
   "id": "aa8093e4",
   "metadata": {},
   "source": [
    "To define two different kernels, Matern-3/2 and Matern-∞ (aka heat, RBF, squared exponential, diffusion), we need two different versions of `params`:"
   ]
  },
  {
   "cell_type": "code",
   "execution_count": 7,
   "id": "01cee7a7",
   "metadata": {},
   "outputs": [],
   "source": [
    "params[\"lengthscale\"] = np.array([0.5])\n",
    "params_32  = params.copy()\n",
    "params_inf = params.copy()\n",
    "del params\n",
    "params_32[\"nu\"]  = np.array([3/2])\n",
    "params_inf[\"nu\"] = np.array([np.inf])"
   ]
  },
  {
   "cell_type": "markdown",
   "id": "74290af9",
   "metadata": {},
   "source": [
    "Now two kernels are *defined* and we proceed to evaluating both on a set of random inputs."
   ]
  },
  {
   "cell_type": "markdown",
   "id": "527deed6",
   "metadata": {},
   "source": [
    "### Evaluating Kernels on Random Inputs"
   ]
  },
  {
   "cell_type": "markdown",
   "id": "1d81cc09",
   "metadata": {},
   "source": [
    "We start by sampling `10` random points on the sphere $\\mathbb{H}_2$.\n",
    "Since manifolds of positive definite matrices are noncompact, the sampling cannot be uniform.\n",
    "Here we resort to the default sampling routine from the [geomstats](https://geomstats.github.io/index.html) package."
   ]
  },
  {
   "cell_type": "code",
   "execution_count": 8,
   "id": "e61b92a1",
   "metadata": {},
   "outputs": [
    {
     "name": "stdout",
     "output_type": "stream",
     "text": [
      "[[[ 2.59295856e+00 -1.24389113e+00]\n",
      "  [-1.24389113e+00  2.98866962e+00]]\n",
      "\n",
      " [[ 7.52434131e-01  3.06475486e-02]\n",
      "  [ 3.06475486e-02  1.26178503e+00]]\n",
      "\n",
      " [[ 4.28943616e-01 -2.89114814e-03]\n",
      "  [-2.89114814e-03  6.18255899e-01]]\n",
      "\n",
      " [[ 6.09051925e-01  4.18501981e-01]\n",
      "  [ 4.18501981e-01  8.84119048e-01]]\n",
      "\n",
      " [[ 2.60885712e+00  2.59684035e-01]\n",
      "  [ 2.59684035e-01  1.64302294e+00]]\n",
      "\n",
      " [[ 1.02968347e+00  1.10314262e+00]\n",
      "  [ 1.10314262e+00  2.92302014e+00]]\n",
      "\n",
      " [[ 1.30822323e+00 -7.60830410e-02]\n",
      "  [-7.60830410e-02  4.51729086e-01]]\n",
      "\n",
      " [[ 5.75771413e-01  2.48842707e-01]\n",
      "  [ 2.48842707e-01  1.67507783e+00]]\n",
      "\n",
      " [[ 1.42659040e+00 -1.96104871e-01]\n",
      "  [-1.96104871e-01  6.06317481e-01]]\n",
      "\n",
      " [[ 2.33243215e+00  6.85547737e-01]\n",
      "  [ 6.85547737e-01  5.68641734e-01]]]\n"
     ]
    }
   ],
   "source": [
    "xs = spd.random_point(10)\n",
    "\n",
    "print(xs)"
   ]
  },
  {
   "cell_type": "markdown",
   "id": "3281367a",
   "metadata": {},
   "source": [
    "Now we evaluate the two kernel matrices."
   ]
  },
  {
   "cell_type": "code",
   "execution_count": 9,
   "id": "f4722d21",
   "metadata": {},
   "outputs": [],
   "source": [
    "kernel_mat_32  = kernel.K(params_32,  xs, xs)\n",
    "kernel_mat_inf = kernel.K(params_inf, xs, xs)"
   ]
  },
  {
   "cell_type": "markdown",
   "id": "35c063aa",
   "metadata": {},
   "source": [
    "Finally, we visualize these matrices using `imshow`."
   ]
  },
  {
   "cell_type": "code",
   "execution_count": 10,
   "id": "63d71e0e",
   "metadata": {
    "scrolled": true
   },
   "outputs": [
    {
     "data": {
      "image/png": "[encoded data removed]",
      "text/plain": [
       "<Figure size 640x480 with 3 Axes>"
      ]
     },
     "metadata": {},
     "output_type": "display_data"
    }
   ],
   "source": [
    "# find common range of values\n",
    "minmin = np.min([np.min(kernel_mat_32), np.min(kernel_mat_inf)])\n",
    "maxmax = np.max([np.max(kernel_mat_32), np.max(kernel_mat_inf)])\n",
    "\n",
    "fig, (ax1, ax2) = plt.subplots(nrows=1, ncols=2)\n",
    "cmap = plt.get_cmap('viridis')\n",
    "\n",
    "ax1.imshow(kernel_mat_32, vmin=minmin, vmax=maxmax, cmap=cmap)\n",
    "ax1.set_title('k_32')\n",
    "ax1.set_axis_off()\n",
    "\n",
    "ax2.imshow(kernel_mat_inf, vmin=minmin, vmax=maxmax, cmap=cmap)\n",
    "ax2.set_title('k_inf')\n",
    "ax2.set_axis_off()\n",
    "\n",
    "# add space for color bar\n",
    "fig.subplots_adjust(right=0.85)\n",
    "cbar_ax = fig.add_axes([0.88, 0.25, 0.02, 0.5])\n",
    "\n",
    "# add colorbar\n",
    "sm = plt.cm.ScalarMappable(cmap=cmap,\n",
    "                           norm=plt.Normalize(vmin=minmin, vmax=maxmax))\n",
    "fig.colorbar(sm, cax=cbar_ax)\n",
    "\n",
    "plt.show()"
   ]
  },
  {
   "cell_type": "markdown",
   "id": "f9398d84-70d7-4d80-a148-a662ceca121c",
   "metadata": {},
   "source": [
    "## Feature Maps and Sampling\n",
    "\n",
    "Here we show how to get an approximate finite-dimensional feature map for heat and Matérn kernels on the manifold of symmetric positive definite matrices, i.e. such $\\phi$ that\n",
    "$$\n",
    "k(x, x') \\approx \\langle \\phi(x), \\phi(x') \\rangle_{\\mathbb{R}^M}.\n",
    "$$\n",
    "This might be useful for speeding up computations.\n",
    "We showcase this below by showing how to efficiently sample the Gaussian process $\\mathrm{GP}(0, k)$.\n",
    "\n",
    "For a brief theoretical introduction into feature maps, see this [documentation page](https://geometric-kernels.github.io/GeometricKernels/theory/feature_maps.html).\n",
    "**Note:** for non-compact symmetric spaces like the manifold of symmetric positive definite matrices, the kernel is always evaluated via a feature map under the hood."
   ]
  },
  {
   "cell_type": "markdown",
   "id": "e1ca6d69-da1d-4e14-af58-58679e7027ec",
   "metadata": {},
   "source": [
    "### Defining a Feature Map"
   ]
  },
  {
   "cell_type": "markdown",
   "id": "3d3e3463-716b-4827-b67e-7cf38ae2bed6",
   "metadata": {},
   "source": [
    "The simplest way to get an approximate finite-dimensional feature map is to use the `default_feature_map` function from `geometric_kernels.kernels`.\n",
    "It has an optional keyword argument `num` which determines the number of features, the $M$ above.\n",
    "Below we rely on the default value of `num`."
   ]
  },
  {
   "cell_type": "code",
   "execution_count": 11,
   "id": "1ef78071-ca52-4ea1-98b9-cac87dcbeb2f",
   "metadata": {},
   "outputs": [],
   "source": [
    "from geometric_kernels.kernels import default_feature_map\n",
    "\n",
    "feature_map = default_feature_map(kernel=kernel)"
   ]
  },
  {
   "cell_type": "markdown",
   "id": "b2714872-cfab-48f8-ade2-a17c83c3b877",
   "metadata": {},
   "source": [
    "The resulting `feature_map` is a function that takes the array of inputs, parameters of the kernel and the JAX-style randomness parameter.\n",
    "There is also an optional parameter `normalize` that determines if $\\langle \\phi(x), \\phi(x) \\rangle_{\\mathbb{R}^M} \\approx 1$ or not.\n",
    "For the manifold of symmetric positive definite matrices, `normalize` is `True` by default.\n",
    "\n",
    "`feature_map` outputs a tuple.\n",
    "Its **second** element is $\\phi(x)$ evaluated at all inputs $x$.\n",
    "Its first element is either `None` for determinstic feature maps, or contains the updated `key` for randomized feature maps which take `key` as a keyword argument.\n",
    "For `default_feature_map` on a `SymmetricPositiveDefiniteMatrices` space, the first element is the updated key since the feature map is *randomized*.\n",
    "\n",
    "In the next cell, we evaluate the feature map at random points, using `params_32` as kernel parameters.\n",
    "We check the basic property of the feature map: $k(x, x') \\approx \\langle \\phi(x), \\phi(x') \\rangle_{\\mathbb{R}^M}$."
   ]
  },
  {
   "cell_type": "code",
   "execution_count": 12,
   "id": "03d6579f-8c8f-430d-9623-d22f705f5556",
   "metadata": {},
   "outputs": [
    {
     "name": "stdout",
     "output_type": "stream",
     "text": [
      "xs (shape = (10, 2, 2)):\n",
      "[[[ 2.59295856e+00 -1.24389113e+00]\n",
      "  [-1.24389113e+00  2.98866962e+00]]\n",
      "\n",
      " [[ 7.52434131e-01  3.06475486e-02]\n",
      "  [ 3.06475486e-02  1.26178503e+00]]\n",
      "\n",
      " [[ 4.28943616e-01 -2.89114814e-03]\n",
      "  [-2.89114814e-03  6.18255899e-01]]\n",
      "\n",
      " [[ 6.09051925e-01  4.18501981e-01]\n",
      "  [ 4.18501981e-01  8.84119048e-01]]\n",
      "\n",
      " [[ 2.60885712e+00  2.59684035e-01]\n",
      "  [ 2.59684035e-01  1.64302294e+00]]\n",
      "\n",
      " [[ 1.02968347e+00  1.10314262e+00]\n",
      "  [ 1.10314262e+00  2.92302014e+00]]\n",
      "\n",
      " [[ 1.30822323e+00 -7.60830410e-02]\n",
      "  [-7.60830410e-02  4.51729086e-01]]\n",
      "\n",
      " [[ 5.75771413e-01  2.48842707e-01]\n",
      "  [ 2.48842707e-01  1.67507783e+00]]\n",
      "\n",
      " [[ 1.42659040e+00 -1.96104871e-01]\n",
      "  [-1.96104871e-01  6.06317481e-01]]\n",
      "\n",
      " [[ 2.33243215e+00  6.85547737e-01]\n",
      "  [ 6.85547737e-01  5.68641734e-01]]]\n",
      "\n",
      "emedding (shape = (10, 6000)):\n",
      "[[ 0.01606516 -0.00948662  0.01436647 ...  0.01260432  0.00181075\n",
      "   0.01295517]\n",
      " [ 0.01432969  0.01777847  0.01597947 ...  0.01420877 -0.01194164\n",
      "  -0.01323175]\n",
      " [ 0.01030131 -0.01613764  0.01497553 ... -0.00759914 -0.00998273\n",
      "  -0.01657697]\n",
      " ...\n",
      " [ 0.01216668  0.01892133  0.0141213  ...  0.01077074 -0.01372459\n",
      "  -0.01500117]\n",
      " [ 0.01841352  0.01617056  0.02248813 ... -0.01468027  0.02089894\n",
      "   0.01991436]\n",
      " [-0.00973165  0.01722602  0.02818268 ...  0.00493974  0.02392947\n",
      "  -0.01877049]]\n",
      "\n",
      "||k(xs, xs) - phi(xs) * phi(xs)^T|| = 0.0\n"
     ]
    }
   ],
   "source": [
    "# introduce random state for reproducibility (optional)\n",
    "# `key` is jax's terminology\n",
    "key = np.random.RandomState(seed=1234)\n",
    "\n",
    "# xs are random points from above\n",
    "_, embedding = feature_map(xs, params_32, key=key)\n",
    "\n",
    "print('xs (shape = %s):\\n%s' % (xs.shape, xs))\n",
    "print('')\n",
    "print('emedding (shape = %s):\\n%s' % (embedding.shape, embedding))\n",
    "\n",
    "kernel_mat_32  = kernel.K(params_32,  xs, xs)\n",
    "kernel_mat_32_alt = np.matmul(embedding, embedding.T)\n",
    "\n",
    "print('')\n",
    "print('||k(xs, xs) - phi(xs) * phi(xs)^T|| =', np.linalg.norm(kernel_mat_32 - kernel_mat_32_alt))"
   ]
  },
  {
   "cell_type": "markdown",
   "id": "73683e34-6252-497a-90e2-629ea473e346",
   "metadata": {},
   "source": [
    "### Efficient Sampling using Feature Maps\n",
    "\n",
    "GeometricKernels provides a simple tool to efficiently sample (without incurring cubic costs) the Gaussian process $f \\sim \\mathrm{GP}(0, k)$, based on an approximate finite-dimensional feature map $\\phi$.\n",
    "The underlying machinery is briefly discussed in this [documentation page](https://geometric-kernels.github.io/GeometricKernels/theory/feature_maps.html).\n",
    "\n",
    "The function `sampler` from `geometric_kernels.sampling` takes in a feature map and, optionally, the keyword argument `s` that specifies the number of samples to generate.\n",
    "It returns a function we name `sample_paths`.\n",
    "\n",
    "`sample_paths` operates much like `feature_map` above: it takes in the points where to evaluate the samples, the kernel parameters and the keyword argument `key` that specifies randomness in the JAX style.\n",
    "`sample_paths` returns a tuple.\n",
    "Its first element is the updated `key`.\n",
    "Its second element is an array containing the value of samples evaluated at the input points."
   ]
  },
  {
   "cell_type": "code",
   "execution_count": 13,
   "id": "086c34e9-e939-4bc0-a774-1bc09e901ec0",
   "metadata": {},
   "outputs": [
    {
     "name": "stdout",
     "output_type": "stream",
     "text": [
      "Two samples evaluated at the xs are:\n",
      "[[ 0.71203132  0.89560433]\n",
      " [-1.57748318  0.15442712]\n",
      " [-0.78077957 -0.13389134]\n",
      " [ 0.10325112 -0.62880865]\n",
      " [-0.08876811  0.75708882]\n",
      " [-0.09133214  0.39051231]\n",
      " [ 0.82469493 -1.49557429]\n",
      " [-1.45939623 -0.36020316]\n",
      " [ 0.55253871 -1.82558313]\n",
      " [-0.11707297 -0.79911101]]\n"
     ]
    }
   ],
   "source": [
    "from geometric_kernels.sampling import sampler\n",
    "\n",
    "sample_paths = sampler(feature_map, s=2)\n",
    "\n",
    "# introduce random state for reproducibility (optional)\n",
    "# `key` is jax's terminology\n",
    "key = np.random.RandomState(seed=1234)\n",
    "\n",
    "# new random state is returned along with the samples\n",
    "key, samples = sample_paths(xs, params_32, key=key)\n",
    "\n",
    "print('Two samples evaluated at the xs are:')\n",
    "print(samples)"
   ]
  },
  {
   "cell_type": "markdown",
   "id": "644434ab",
   "metadata": {},
   "source": [
    "## Citation\n",
    "\n",
    "If you are using manifolds of symmetric positive definite matrices and GeometricKernels, please consider citing\n",
    "\n",
    "```\n",
    "@article{mostowsky2024,\n",
    "      title = {The GeometricKernels Package: Heat and Matérn Kernels for Geometric Learning on Manifolds, Meshes, and Graphs},\n",
    "      author = {Peter Mostowsky and Vincent Dutordoir and Iskander Azangulov and Noémie Jaquier and Michael John Hutchinson and Aditya Ravuri and Leonel Rozo and Alexander Terenin and Viacheslav Borovitskiy},\n",
    "      year = {2024},\n",
    "      journal = {arXiv:2407.08086},\n",
    "}\n",
    "```\n",
    "\n",
    "```\n",
    "@article{azangulov2024b,\n",
    "  title = {Stationary Kernels and Gaussian Processes on Lie Groups and their Homogeneous Spaces II: non-compact symmetric spaces},\n",
    "  author = {Azangulov, Iskander and Smolensky, Andrei and Terenin, Alexander and Borovitskiy, Viacheslav},\n",
    "  journal = {Journal of Machine Learning Research},\n",
    "  year = {2024},\n",
    "  volume = {25},\n",
    "  number = {281},\n",
    "  pages = {1--51},\n",
    "}\n",
    "```"
   ]
  },
  {
   "cell_type": "code",
   "execution_count": null,
   "id": "99eda622",
   "metadata": {},
   "outputs": [],
   "source": []
  }
 ],
 "metadata": {
  "kernelspec": {
   "display_name": "gkconda_updated_sh",
   "language": "python",
   "name": "gkconda_updated_sh"
  },
  "language_info": {
   "codemirror_mode": {
    "name": "ipython",
    "version": 3
   },
   "file_extension": ".py",
   "mimetype": "text/x-python",
   "name": "python",
   "nbconvert_exporter": "python",
   "pygments_lexer": "ipython3",
   "version": "3.10.13"
  }
 },
 "nbformat": 4,
 "nbformat_minor": 5
}
