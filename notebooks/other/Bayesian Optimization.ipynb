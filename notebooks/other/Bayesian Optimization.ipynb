{
 "cells": [
  {
   "cell_type": "code",
   "execution_count": 1,
   "metadata": {
    "id": "N2YCQeyY50Xg"
   },
   "outputs": [],
   "source": [
    "# To run this in Google Colab, uncomment the following line\n",
    "# !pip install geometric_kernels\n",
    "\n",
    "# If you want to use a version of the library from a specific branch on GitHub,\n",
    "# say, from the \"devel\" branch, uncomment the line below instead\n",
    "# !pip install \"git+https://github.com/geometric-kernels/GeometricKernels@devel\""
   ]
  },
  {
   "cell_type": "markdown",
   "metadata": {},
   "source": [
    "# Bayesian Optimization on the Sphere Manifold $\\mathbb{S}_2$\n",
    "\n",
    "This notebooks illustrates the application of Bayesian optimization (BO) on a sphere manifold. \n",
    "To run it, you need to have [BoTorch](https://botorch.org/) installed.\n",
    "\n",
    "**Note:** The problem we study below has been intentionally kept very simple to facilitate visualization. As such, do not expect to observe a significant improvement compared to a non-geometric optimization loop. However, in more complex scenarios—such as those involving higher-dimensional manifolds—the advantages of the geometric approach can be substantial, as demonstrated by [Jaquier et al. (2022)](https://arxiv.org/abs/2111.01460)."
   ]
  },
  {
   "cell_type": "code",
   "execution_count": 2,
   "metadata": {
    "tags": []
   },
   "outputs": [
    {
     "name": "stderr",
     "output_type": "stream",
     "text": [
      "INFO (geometric_kernels): Numpy backend is enabled. To enable other backends, don't forget to `import geometric_kernels.*backend name*`.\n",
      "INFO (geometric_kernels): We may be suppressing some logging of external libraries. To override the logging policy, call `logging.basicConfig`.\n",
      "INFO (geometric_kernels): Torch backend enabled.\n"
     ]
    }
   ],
   "source": [
    "# Import a backend, we use torch in this example.\n",
    "import gpytorch\n",
    "import torch\n",
    "\n",
    "# Import the geometric_kernels backend.\n",
    "import geometric_kernels\n",
    "import geometric_kernels.torch\n",
    "\n",
    "# Import the Hypersphere space and the general-purpose MaternGeometricKernel\n",
    "from geometric_kernels.spaces import Hypersphere\n",
    "from geometric_kernels.kernels import MaternGeometricKernel\n",
    "\n",
    "# The GPyTorch frontend of GeometricKernels\n",
    "from geometric_kernels.frontends.gpytorch import GPyTorchGeometricKernel\n",
    "\n",
    "# For manifold optimization of acquisition functions\n",
    "import geoopt\n",
    "from geoopt.optim import RiemannianAdam\n",
    "\n",
    "# Stuff\n",
    "import numpy as np\n",
    "import botorch\n",
    "import warnings"
   ]
  },
  {
   "cell_type": "code",
   "execution_count": 3,
   "metadata": {},
   "outputs": [],
   "source": [
    "from packaging.version import Version\n",
    "if Version(botorch.__version__) < Version(\"0.7.2\"):\n",
    "    from botorch import fit_gpytorch_model\n",
    "else:\n",
    "    from botorch.fit import fit_gpytorch_mll as fit_gpytorch_model"
   ]
  },
  {
   "cell_type": "markdown",
   "metadata": {},
   "source": [
    "We initialize a sphere manifold $\\mathbb{S}_2$."
   ]
  },
  {
   "cell_type": "code",
   "execution_count": 4,
   "metadata": {
    "tags": []
   },
   "outputs": [],
   "source": [
    "sphere = Hypersphere(dim=2)"
   ]
  },
  {
   "cell_type": "markdown",
   "metadata": {},
   "source": [
    "Define the function to optimize. \n",
    "\n",
    "Here we use the Ackley function (see, e.g., https://www.sfu.ca/~ssurjano/ackley.html).\n",
    "The function is defined on the tangent space of the base point $(1, 0, 0, ...)$ and projected to the manifold via the exponential map. The value of the function is therefore computed by projecting the point on the manifold to the tangent space of the base point and by computing the value of the Ackley function in this Euclidean space.\n",
    "This requires the logarithmic map on the sphere, also defined below."
   ]
  },
  {
   "cell_type": "code",
   "execution_count": 5,
   "metadata": {
    "tags": []
   },
   "outputs": [],
   "source": [
    "def logmap(x, x0):\n",
    "    \"\"\"\n",
    "    This function maps a point lying on the sphere manifold into the tangent space of a second point on the manifold.\n",
    "\n",
    "    Parameters\n",
    "    ----------\n",
    "    :param x: point on the sphere manifold\n",
    "    :param x0: basis point of the tangent space where x will be mapped\n",
    "\n",
    "    Returns\n",
    "    -------\n",
    "    :return: u: vector in the tangent space of x0\n",
    "    \"\"\"\n",
    "    if x0.ndim < 2:\n",
    "        x0 = x0[None]\n",
    "\n",
    "    if x.ndim < 2:\n",
    "        x = x[None]\n",
    "\n",
    "    theta = torch.arccos(torch.maximum(torch.minimum(torch.inner(x0, x), torch.ones(1)), -torch.ones(1)))\n",
    "    u = (x - x0 * torch.cos(theta)) * theta / torch.sin(theta)\n",
    "\n",
    "    u[:, torch.where(theta[0] < 1e-16)[0]] = 0.\n",
    "\n",
    "    return u\n",
    "\n",
    "def ackley_function_sphere(x):\n",
    "    # Data to numpy\n",
    "    if x.ndim < 2:\n",
    "        x = x[None]\n",
    "\n",
    "    # Dimension of the manifold\n",
    "    dimension = x.shape[-1]\n",
    "\n",
    "    # Projection in tangent space of the mean.\n",
    "    # The base is fixed at (1, 0, 0, ...) for simplicity. Therefore, the tangent plane is aligned with the axis x.\n",
    "    # The first coordinate of x_proj is always 0, so that vectors in the tangent space can be expressed in a dimension-1\n",
    "    # dimensional space by simply ignoring the first coordinate.\n",
    "    base = torch.zeros((1, dimension), dtype=x.dtype)\n",
    "    base[0, 0] = 1.\n",
    "    x_proj = logmap(x, base)[0]\n",
    "\n",
    "    # Remove first dim\n",
    "    x_proj_red = x_proj[1:]\n",
    "    reduced_dimension = dimension - 1\n",
    "\n",
    "    # Ackley function parameters\n",
    "    a = 20\n",
    "    b = 0.2\n",
    "    c = 2 * np.pi\n",
    "\n",
    "    # Ackley function\n",
    "    aexp_term = -a * torch.exp(-b * torch.sqrt(torch.sum(x_proj_red ** 2) / reduced_dimension))\n",
    "    expcos_term = - torch.exp(torch.sum(torch.cos(c * x_proj_red) / reduced_dimension))\n",
    "    y = aexp_term + expcos_term + a + np.exp(1.)\n",
    "\n",
    "    return y[None, None]"
   ]
  },
  {
   "cell_type": "markdown",
   "metadata": {},
   "source": [
    "We also define the routine below for manifold optimization of acquisition functions.\n",
    "It uses `geoopt`, a library for gradient optimization on manifolds."
   ]
  },
  {
   "cell_type": "code",
   "execution_count": 6,
   "metadata": {},
   "outputs": [],
   "source": [
    "def optimize_acqf_on_sphere(acq_fct, num_restarts=10, n_steps=50, lr=0.1, device=\"cpu\"):\n",
    "    inits = torch.randn(num_restarts, 3, device=device)\n",
    "    inits = inits / inits.norm(dim=-1, keepdim=True)\n",
    "    \n",
    "    best_val = None\n",
    "    best_x = None\n",
    "    \n",
    "    for i in range(num_restarts):\n",
    "        x = geoopt.ManifoldParameter(inits[i:i+1].clone().requires_grad_(), manifold=geoopt.manifolds.Sphere())\n",
    "        optimizer = RiemannianAdam([x], lr=lr)\n",
    "        for step in range(n_steps):\n",
    "            optimizer.zero_grad()\n",
    "            val = -acq_fct(x)  # minus for \"maximize\"\n",
    "            val.backward()\n",
    "            optimizer.step()\n",
    "        final_val = acq_fct(x).item()\n",
    "        if (best_val is None) or (final_val > best_val):\n",
    "            best_val = final_val\n",
    "            best_x = x.detach().clone()\n",
    "    return best_x, best_val"
   ]
  },
  {
   "cell_type": "markdown",
   "metadata": {},
   "source": [
    "### Initialization"
   ]
  },
  {
   "cell_type": "markdown",
   "metadata": {},
   "source": [
    "Generate 5 random data locations on the sphere to be used as initial design for BO."
   ]
  },
  {
   "cell_type": "code",
   "execution_count": 7,
   "metadata": {
    "tags": []
   },
   "outputs": [
    {
     "name": "stdout",
     "output_type": "stream",
     "text": [
      "Inputs: tensor([[ 0.0423,  0.3693, -0.9283],\n",
      "        [ 0.2637, -0.7450,  0.6128],\n",
      "        [ 0.2970,  0.8911, -0.3431],\n",
      "        [ 0.9919,  0.0465, -0.1179],\n",
      "        [-0.1118, -0.9892, -0.0952]], dtype=torch.float64)\n",
      "Outputs:  tensor([6.1984, 3.9993, 5.2496, 0.7422, 5.9154], dtype=torch.float64)\n"
     ]
    }
   ],
   "source": [
    "nb_data_init = 5\n",
    "\n",
    "key = torch.Generator()\n",
    "key.manual_seed(1234)\n",
    "\n",
    "key, x_data = sphere.random(key, nb_data_init)\n",
    "y_data = torch.zeros(nb_data_init, dtype=torch.float64)\n",
    "for n in range(nb_data_init):\n",
    "    y_data[n] = ackley_function_sphere(x_data[n])\n",
    "\n",
    "print('Inputs:', x_data)\n",
    "print('Outputs: ', y_data)"
   ]
  },
  {
   "cell_type": "markdown",
   "metadata": {},
   "source": [
    "### Definition of the BO Surrogate Model\n",
    "Here we use a Gaussian process with a Matérn kernel on $\\mathbb{S}_2$.\n",
    "\n",
    "The kernel has three positive real hyperparameters: variance $\\sigma^2$, length scale $\\kappa$ and smoothness $\\nu$.\n",
    "Defining a Gaussian process model also requires a likelihood noise hyperparameter $\\sigma_n^2$.\n",
    "\n",
    "We use the $\\operatorname{Gamma}(2.0, 0.15)$ prior for $\\sigma$, the square root of $\\sigma^2$, and $\\operatorname{Gamma}(1.1, 0.05)$ prior for $\\sigma_n^2$."
   ]
  },
  {
   "cell_type": "markdown",
   "metadata": {
    "pycharm": {
     "name": "#%% md\n"
    }
   },
   "source": [
    "We first define the kernel."
   ]
  },
  {
   "cell_type": "code",
   "execution_count": 8,
   "metadata": {
    "pycharm": {
     "name": "#%%\n"
    },
    "tags": []
   },
   "outputs": [],
   "source": [
    "base_kernel = GPyTorchGeometricKernel(MaternGeometricKernel(sphere))\n",
    "kernel = gpytorch.kernels.ScaleKernel(base_kernel,\n",
    "                                      outputscale_prior=gpytorch.priors.torch_priors.GammaPrior(2.0, 0.15))"
   ]
  },
  {
   "cell_type": "markdown",
   "metadata": {
    "pycharm": {
     "name": "#%% md\n"
    }
   },
   "source": [
    "We then define the likelihood of the Gaussian process."
   ]
  },
  {
   "cell_type": "code",
   "execution_count": 9,
   "metadata": {
    "pycharm": {
     "name": "#%%\n"
    },
    "tags": []
   },
   "outputs": [],
   "source": [
    "noise_prior = gpytorch.priors.torch_priors.GammaPrior(1.1, 0.05)\n",
    "noise_prior_mode = (noise_prior.concentration - 1) / noise_prior.rate\n",
    "lik_fct = gpytorch.likelihoods.gaussian_likelihood.GaussianLikelihood(noise_prior=noise_prior,\n",
    "                                                                      noise_constraint=\n",
    "                                                                      gpytorch.constraints.GreaterThan(1e-8),\n",
    "                                                                      initial_value=noise_prior_mode)"
   ]
  },
  {
   "cell_type": "markdown",
   "metadata": {
    "pycharm": {
     "name": "#%% md\n"
    }
   },
   "source": [
    "We finally initialize the GP model, as well as the marginal likelihood function that will be used to optimize its parameters."
   ]
  },
  {
   "cell_type": "code",
   "execution_count": 10,
   "metadata": {
    "pycharm": {
     "name": "#%%\n"
    },
    "tags": []
   },
   "outputs": [],
   "source": [
    "with warnings.catch_warnings():\n",
    "    warnings.simplefilter(\"ignore\")\n",
    "    model = botorch.models.SingleTaskGP(x_data, y_data[:, None], covar_module=kernel, likelihood=lik_fct)\n",
    "    mll_fct = gpytorch.mlls.ExactMarginalLogLikelihood(model.likelihood, model)"
   ]
  },
  {
   "cell_type": "markdown",
   "metadata": {
    "pycharm": {
     "name": "#%% md\n"
    }
   },
   "source": [
    "### Bayesian optimization loop"
   ]
  },
  {
   "cell_type": "code",
   "execution_count": 11,
   "metadata": {
    "pycharm": {
     "name": "#%%\n"
    },
    "tags": []
   },
   "outputs": [],
   "source": [
    "new_best_f, index = y_data.min(0)\n",
    "best_x = [x_data[index]]\n",
    "best_f = [new_best_f]"
   ]
  },
  {
   "cell_type": "markdown",
   "metadata": {
    "pycharm": {
     "name": "#%% md\n"
    }
   },
   "source": [
    "Now we define the shorthand for acquisition optimization. In the next cell, you can also choose to use non-manifold optimization of acquisitions."
   ]
  },
  {
   "cell_type": "code",
   "execution_count": 12,
   "metadata": {
    "pycharm": {
     "name": "#%%\n"
    },
    "tags": []
   },
   "outputs": [],
   "source": [
    "def ack_optimize(acq_fct, num_restarts=10):\n",
    "    return optimize_acqf_on_sphere(acq_fct, num_restarts=num_restarts, n_steps=50, lr=0.1, device=x_data.device)\n",
    "\n",
    "# (Un)comment below if you (don't) want to use manifold optimization of acquisitions\n",
    "\n",
    "# # We define the bounds for the optimization of the acquisition function, as well as the constraints that must be satisfied by candidate points on the sphere.\n",
    "# bounds = torch.stack([-torch.ones(3, dtype=torch.float64), torch.ones(3, dtype=torch.float64)])\n",
    "\n",
    "# def upper_constraint(x):\n",
    "#     return 1.0 - torch.linalg.norm(x, dim=-1)\n",
    "\n",
    "# def lower_constraint(x):\n",
    "#     return torch.linalg.norm(x, dim=-1) - 1.0\n",
    "\n",
    "# def ack_optimize(acq_fct, num_restarts=10):\n",
    "#     # this uses constrained optimization on the sphere to guarantee that our new candidate point belongs to the sphere manifold\n",
    "#     return botorch.optim.optimize_acqf(acq_fct, bounds=bounds, q=1,\n",
    "#                                                        num_restarts=num_restarts, raw_samples=100,\n",
    "#                                                        nonlinear_inequality_constraints=[upper_constraint,\n",
    "#                                                                                          lower_constraint],\n",
    "#                                                        batch_initial_conditions=batch_initial_conditions[:, None])"
   ]
  },
  {
   "cell_type": "markdown",
   "metadata": {
    "pycharm": {
     "name": "#%% md\n"
    }
   },
   "source": [
    "Finally, we can run our BO loop. At each iteration, we first optimize our GP model, then we define the acquisition function, and select the new candidate point as the point maximizing the acquisition function. "
   ]
  },
  {
   "cell_type": "code",
   "execution_count": 13,
   "metadata": {
    "nbmake": {
     "mock": {
      "n_iters": 2
     }
    }
   },
   "outputs": [],
   "source": [
    "n_iters = 15"
   ]
  },
  {
   "cell_type": "code",
   "execution_count": 14,
   "metadata": {
    "tags": []
   },
   "outputs": [
    {
     "name": "stdout",
     "output_type": "stream",
     "text": [
      "Iteration 1\t Best f 0.7421870944514706\n",
      "Iteration 2\t Best f 0.7421870944514706\n",
      "Iteration 3\t Best f 0.7421870944514706\n",
      "Iteration 4\t Best f 0.3548612594604492\n",
      "Iteration 5\t Best f 0.3548612594604492\n",
      "Iteration 6\t Best f 0.3548612594604492\n",
      "Iteration 7\t Best f 0.3548612594604492\n",
      "Iteration 8\t Best f 0.08060359954833984\n",
      "Iteration 9\t Best f 0.08060359954833984\n",
      "Iteration 10\t Best f 0.08060359954833984\n",
      "Iteration 11\t Best f 0.08060359954833984\n",
      "Iteration 12\t Best f 0.08060359954833984\n",
      "Iteration 13\t Best f 0.08060359954833984\n",
      "Iteration 14\t Best f 0.06093120574951172\n",
      "Iteration 15\t Best f 0.06093120574951172\n"
     ]
    }
   ],
   "source": [
    "for iteration in range(n_iters):\n",
    "    # Fit GP model\n",
    "    fit_gpytorch_model(mll=mll_fct)\n",
    "\n",
    "    # Define the acquisition function\n",
    "    acq_fct = botorch.acquisition.ExpectedImprovement(model=model, best_f=best_f[-1], maximize=False)\n",
    "    \n",
    "    # Initial conditions to optimize the acquisition function\n",
    "    key, batch_initial_conditions = sphere.random(key, 100)\n",
    "    batch_initial_conditions /= torch.linalg.norm(batch_initial_conditions, dim=-1)[:, None]\n",
    "\n",
    "    # Get new candidate\n",
    "    with warnings.catch_warnings():\n",
    "        warnings.simplefilter(\"ignore\")\n",
    "        new_x, acq_new_x = ack_optimize(acq_fct, num_restarts=25)\n",
    "    # Get new observation\n",
    "    new_y = ackley_function_sphere(new_x)[0]\n",
    "\n",
    "    # Update training points\n",
    "    x_data = torch.cat((x_data, new_x))\n",
    "    y_data = torch.cat((y_data, new_y))\n",
    "\n",
    "    # Update best observation\n",
    "    new_best_f, index = y_data.min(0)\n",
    "    best_x.append(x_data[index])\n",
    "    best_f.append(new_best_f)\n",
    "\n",
    "    # Update the model\n",
    "    model.set_train_data(x_data, y_data, strict=False)  # strict False necessary to add datapoints\n",
    "\n",
    "    print(\"Iteration \" + str(iteration+1) + \"\\t Best f \" + str(new_best_f.item()))"
   ]
  },
  {
   "cell_type": "code",
   "execution_count": 15,
   "metadata": {
    "pycharm": {
     "name": "#%%\n"
    },
    "tags": []
   },
   "outputs": [],
   "source": [
    "x_eval = x_data.cpu().numpy()\n",
    "y_eval = y_data.cpu().numpy()[:, None]\n",
    "best_x_np = np.array([x.cpu().detach().numpy() for x in best_x])\n",
    "best_f_np = np.array([f.cpu().detach().numpy() for f in best_f])[:, None]"
   ]
  },
  {
   "cell_type": "markdown",
   "metadata": {
    "pycharm": {
     "name": "#%% md\n"
    }
   },
   "source": [
    "## Results\n"
   ]
  },
  {
   "cell_type": "code",
   "execution_count": 16,
   "metadata": {
    "pycharm": {
     "name": "#%%\n"
    },
    "tags": []
   },
   "outputs": [],
   "source": [
    "import matplotlib.pyplot as plt\n",
    "import matplotlib.pylab as pl\n",
    "from mpl_toolkits.mplot3d import Axes3D"
   ]
  },
  {
   "cell_type": "markdown",
   "metadata": {
    "pycharm": {
     "name": "#%% md\n"
    }
   },
   "source": [
    "We set the true minimum value of the objective function to evaluate the performance of the BO."
   ]
  },
  {
   "cell_type": "code",
   "execution_count": 17,
   "metadata": {
    "pycharm": {
     "name": "#%%\n"
    },
    "tags": []
   },
   "outputs": [],
   "source": [
    "true_min_x = np.zeros((1, 3))\n",
    "true_min_x[0, 0] = 1.\n",
    "true_min_value = 0.0"
   ]
  },
  {
   "cell_type": "markdown",
   "metadata": {
    "pycharm": {
     "name": "#%% md\n"
    }
   },
   "source": [
    "We display the candidate points on the sphere evaluated in the BO loop. Their color indicate the value of the function (yellow is low, purple is high). The best candidate is displayed as a red diamond, and the true minimum as a blue cross."
   ]
  },
  {
   "cell_type": "code",
   "execution_count": 18,
   "metadata": {
    "pycharm": {
     "name": "#%%\n"
    },
    "tags": []
   },
   "outputs": [
    {
     "data": {
      "image/png": "[encoded data removed]",
      "text/plain": [
       "<Figure size 1000x1000 with 1 Axes>"
      ]
     },
     "metadata": {},
     "output_type": "display_data"
    }
   ],
   "source": [
    "fig = plt.figure(figsize=(10, 10))\n",
    "ax = fig.add_subplot(111, projection=\"3d\")\n",
    "\n",
    "# Make the panes transparent\n",
    "ax.xaxis.set_pane_color((1.0, 1.0, 1.0, 0.0))\n",
    "ax.yaxis.set_pane_color((1.0, 1.0, 1.0, 0.0))\n",
    "ax.zaxis.set_pane_color((1.0, 1.0, 1.0, 0.0))\n",
    "\n",
    "# Make the grid lines transparent\n",
    "ax.xaxis._axinfo[\"grid\"]['color'] = (1, 1, 1, 0)\n",
    "ax.yaxis._axinfo[\"grid\"]['color'] = (1, 1, 1, 0)\n",
    "ax.zaxis._axinfo[\"grid\"]['color'] = (1, 1, 1, 0)\n",
    "\n",
    "# Remove axis\n",
    "ax._axis3don = False\n",
    "\n",
    "# Initial view\n",
    "ax.view_init(elev=10, azim=30.)\n",
    "\n",
    "# Plot sphere\n",
    "n_elems = 100\n",
    "r = 0.99\n",
    "u = np.linspace(0, 2 * np.pi, n_elems)\n",
    "v = np.linspace(0, np.pi, n_elems)\n",
    "\n",
    "x = r * np.outer(np.cos(u), np.sin(v))\n",
    "y = r * np.outer(np.sin(u), np.sin(v))\n",
    "z = r * np.outer(np.ones(np.size(u)), np.cos(v))\n",
    "\n",
    "ax.plot_surface(x, y, z, rstride=4, cstride=4, color=[0.8, 0.8, 0.8], linewidth=0, alpha=0.4)\n",
    "\n",
    "lim = 1.1\n",
    "ax.set_xlim3d([-lim, lim])\n",
    "ax.set_ylim3d([-lim, lim])\n",
    "ax.set_zlim3d([-0.75*lim, 0.75*lim])\n",
    "\n",
    "# Plot evaluated points\n",
    "max_colors = np.max(y_eval - true_min_value)\n",
    "for n in range(x_eval.shape[0]):\n",
    "    ax.scatter(x_eval[n, 0], x_eval[n, 1], x_eval[n, 2], s=50,\n",
    "               c=pl.cm.inferno(1. - (y_eval[n] - true_min_value) / max_colors))\n",
    "\n",
    "# Plot true minimum\n",
    "ax.scatter(true_min_x[0, 0], true_min_x[0, 1], true_min_x[0, 2], s=200, c='b', marker='P')\n",
    "\n",
    "# Plot BO minimum\n",
    "ax.scatter(best_x_np[-1][0], best_x_np[-1][1], best_x_np[-1][2], s=100, c='r', marker='D')\n",
    "\n",
    "plt.show()"
   ]
  },
  {
   "cell_type": "markdown",
   "metadata": {
    "pycharm": {
     "name": "#%% md\n"
    }
   },
   "source": [
    "We finally display the distance between consecutive candidate points on the sphere, and the convergence plot of our BO algorithm."
   ]
  },
  {
   "cell_type": "code",
   "execution_count": 19,
   "metadata": {
    "collapsed": false,
    "jupyter": {
     "outputs_hidden": false
    },
    "pycharm": {
     "name": "#%%\n"
    },
    "tags": []
   },
   "outputs": [
    {
     "data": {
      "image/png": "[encoded data removed]",
      "text/plain": [
       "<Figure size 1000x500 with 2 Axes>"
      ]
     },
     "metadata": {},
     "output_type": "display_data"
    }
   ],
   "source": [
    "def sphere_distance(x, y):\n",
    "    if np.ndim(x) < 2:\n",
    "        x = x[:, None]\n",
    "    if np.ndim(y) < 2:\n",
    "        y = y[:, None]\n",
    "\n",
    "    # Compute the inner product (should be [-1,1])\n",
    "    inner_product = np.dot(x.T, y)\n",
    "    inner_product = np.max(np.min(inner_product, 1), -1)\n",
    "    return np.arccos(inner_product)\n",
    "\n",
    "# Compute distances between consecutive x's and best evaluation for each iteration\n",
    "neval = x_eval.shape[0]\n",
    "distances = np.zeros(neval-1)\n",
    "for n in range(neval-1):\n",
    "    distances[n] = sphere_distance(x_eval[n + 1, :], x_eval[n, :])\n",
    "\n",
    "Y_best = np.ones(neval)\n",
    "for i in range(neval):\n",
    "    Y_best[i] = y_eval[:(i + 1)].min()\n",
    "\n",
    "# Plot distances between consecutive x's\n",
    "plt.figure(figsize=(10, 5))\n",
    "plt.subplot(1, 2, 1)\n",
    "plt.plot(np.array(range(neval - 1)), distances, '-ro')\n",
    "plt.xlabel('Iteration')\n",
    "plt.ylabel('d(x[n], x[n-1])')\n",
    "plt.title('Distance between consecutive x\\'s')\n",
    "plt.grid(True)\n",
    "\n",
    "# Plot value of the best candidate\n",
    "plt.subplot(1, 2, 2)\n",
    "plt.plot(np.array(range(neval)), Y_best, '-o')\n",
    "plt.hlines(true_min_value, 0, neval, 'k', '--')\n",
    "plt.title('Value of the best candidate')\n",
    "plt.xlabel('Iteration')\n",
    "plt.ylabel('Best y')\n",
    "plt.grid(True)\n",
    "\n",
    "plt.show()"
   ]
  },
  {
   "cell_type": "markdown",
   "metadata": {},
   "source": [
    "## Citation\n",
    "\n",
    "If you are using Bayesian optimization and GeometricKernels, please consider citing\n",
    "\n",
    "```\n",
    "@article{mostowsky2024,\n",
    "      title = {The GeometricKernels Package: Heat and Matérn Kernels for Geometric Learning on Manifolds, Meshes, and Graphs},\n",
    "      author = {Peter Mostowsky and Vincent Dutordoir and Iskander Azangulov and Noémie Jaquier and Michael John Hutchinson and Aditya Ravuri and Leonel Rozo and Alexander Terenin and Viacheslav Borovitskiy},\n",
    "      year = {2024},\n",
    "      journal = {arXiv:2407.08086},\n",
    "}\n",
    "```\n",
    "\n",
    "```\n",
    "@inproceedings{jaquier2022,\n",
    "    title={Geometry-aware Bayesian optimization in robotics using Riemannian Matérn kernels},\n",
    "    author={Jaquier, Noémie and Borovitskiy, Viacheslav and Smolensky, Andrei and Terenin, Alexander and Asfour, Tamim and Rozo, Leonel},\n",
    "    booktitle={Conference on Robot Learning},\n",
    "    year={2022},\n",
    "}\n",
    "```"
   ]
  },
  {
   "cell_type": "code",
   "execution_count": null,
   "metadata": {},
   "outputs": [],
   "source": []
  }
 ],
 "metadata": {
  "kernelspec": {
   "display_name": "gkconda_updated_sh",
   "language": "python",
   "name": "gkconda_updated_sh"
  },
  "language_info": {
   "codemirror_mode": {
    "name": "ipython",
    "version": 3
   },
   "file_extension": ".py",
   "mimetype": "text/x-python",
   "name": "python",
   "nbconvert_exporter": "python",
   "pygments_lexer": "ipython3",
   "version": "3.10.13"
  }
 },
 "nbformat": 4,
 "nbformat_minor": 4
}
