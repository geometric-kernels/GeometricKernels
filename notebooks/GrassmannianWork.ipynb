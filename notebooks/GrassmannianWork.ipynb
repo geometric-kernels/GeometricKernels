{
 "cells": [
  {
   "cell_type": "code",
   "execution_count": 10,
   "id": "66ebbb52",
   "metadata": {},
   "outputs": [
    {
     "ename": "",
     "evalue": "",
     "output_type": "error",
     "traceback": [
      "\u001b[1;31mFailed to start the Kernel '.venv (Python 3.12.7)'. \n",
      "\u001b[1;31mView Jupyter <a href='command:jupyter.viewOutput'>log</a> for further details. ENOSPC: no space left on device, close"
     ]
    }
   ],
   "source": [
    "# To run this in Google Colab, uncomment the following line\n",
    "# !pip install geometric_kernels\n",
    "\n",
    "# If you want to use a version of thnew_space.dim = G.dim - H.dime library from a specific branch on GitHub,\n",
    "# say, from the \"devel\" branch, uncomment the line below instead\n",
    "# !pip install \"git+https://github.com/GPflow/GeometricKernels@devel\""
   ]
  },
  {
   "cell_type": "code",
   "execution_count": 11,
   "id": "6697181b",
   "metadata": {},
   "outputs": [],
   "source": [
    "# add the parent directory if you just cloned the repository\n",
    "import sys\n",
    "sys.path.append(\"..\")"
   ]
  },
  {
   "cell_type": "markdown",
   "id": "f1794455-f4e9-4388-83b6-d39d01e07ae1",
   "metadata": {},
   "source": [
    "## Basics"
   ]
  },
  {
   "cell_type": "code",
   "execution_count": 12,
   "id": "c2c899b2",
   "metadata": {},
   "outputs": [],
   "source": [
    "# Import a backend, we use numpy in this example.\n",
    "import numpy as np\n",
    "import lab as B\n",
    "# Import the geometric_kernels backend.\n",
    "import geometric_kernels\n",
    "\n",
    "# Note: if you are using a backend other than numpy,\n",
    "# you _must_ uncomment one of the following lines\n",
    "# import geometric_kernels.tensorflow\n",
    "# import geometric_kernels.torch\n",
    "# import geometric_kernels.jax\n",
    "\n",
    "# Import a space and an appropriate kernel.\n",
    "from geometric_kernels.kernels import MaternGeometricKernel\n",
    "from geometric_kernels.spaces import Grassmannian, SpecialOrthogonal\n",
    "from geometric_kernels.spaces.grassmannian import _SOxSO, _S_OxO\n",
    "import matplotlib as mpl\n",
    "import matplotlib.pyplot as plt"
   ]
  },
  {
   "cell_type": "code",
   "execution_count": 13,
   "id": "bc2f6122",
   "metadata": {},
   "outputs": [],
   "source": [
    "m, n = 3, 6\n",
    "\n",
    "key = np.random.RandomState(1234)\n",
    "\n",
    "grassmannian = Grassmannian(m=m, n=n)\n",
    "so = SpecialOrthogonal(n=n)\n",
    "stab = _S_OxO(n-m, m)"
   ]
  },
  {
   "cell_type": "code",
   "execution_count": null,
   "id": "487c94c5",
   "metadata": {},
   "outputs": [],
   "source": [
    "kernel = MaternGeometricKernel(grassmannian)\n",
    "kernel_so = MaternGeometricKernel(so)\n",
    "eig_grass = kernel.eigenfunctions\n",
    "eig_so = kernel_so.eigenfunctions"
   ]
  },
  {
   "cell_type": "code",
   "execution_count": 6,
   "id": "5198dd67",
   "metadata": {},
   "outputs": [],
   "source": [
    "key, xs_grass = grassmannian.random(key, 5, project=True)\n",
    "xs_so = grassmannian.embed_manifold(xs_grass)\n",
    "key, xs_stab = stab.random(key, 100000)\n",
    "\n",
    "xs_so_stab = np.einsum('nij,mjk->nmik', xs_so, xs_stab)\n",
    "\n",
    "xs_grass_torus = eig_grass._torus_representative(xs_grass)\n",
    "xs_so_stab_torus = eig_so._torus_representative(xs_so_stab)\n",
    "xs_stab_torus = eig_so._torus_representative(xs_stab)"
   ]
  },
  {
   "cell_type": "code",
   "execution_count": null,
   "id": "cc4f3c7d",
   "metadata": {},
   "outputs": [],
   "source": []
  },
  {
   "cell_type": "code",
   "execution_count": null,
   "id": "f6fe5fe8",
   "metadata": {},
   "outputs": [],
   "source": [
    "from collections import defaultdict\n",
    "eigs = defaultdict(dict)\n",
    "for zsf, sgn, eigval in zip(kernel.eigenfunctions._zsf, kernel.eigenfunctions._signatures, kernel.eigenfunctions._eigenvalues):\n",
    "    eigs[sgn]['zsf'] = zsf\n",
    "    eigs[sgn]['eig_grass'] = eigval\n",
    "\n",
    "for chi, sgn, eigval in zip(kernel_so.eigenfunctions._characters, kernel_so.eigenfunctions._signatures, kernel_so.eigenfunctions._eigenvalues):\n",
    "    eigs[sgn]['chi'] = chi\n",
    "    eigs[sgn]['eig_so'] = eigval\n",
    "\n",
    "for sgn, eig in eigs.items():\n",
    "    print(f\"Signature: {sgn}\")\n",
    "    print(f\"  Eigenvalue (Grassmannian): {eig.get('eig_grass')}\")\n",
    "    print(f\"  Eigenvalue (SO): {eig.get('eig_so')}\")"
   ]
  },
  {
   "cell_type": "code",
   "execution_count": null,
   "id": "4b0356d3",
   "metadata": {},
   "outputs": [],
   "source": [
    "for sgn, eig in eigs.items():\n",
    "    zsf = eig.get('zsf')\n",
    "    chi = eig.get('chi')\n",
    "    if (chi is not None) and (zsf is not None):\n",
    "        zsf_xs = zsf(xs_grass_torus)\n",
    "        chi_xs_so_stab = chi(xs_so_stab_torus)\n",
    "        chi_xs_stab = chi(xs_stab_torus)\n",
    "        chi_xs_so_stab_avg = np.mean(chi_xs_so_stab, axis=0)\n",
    "        chi_xs_stab_avg = np.mean(chi_xs_stab)\n",
    "        print(sgn, ': ', chi_xs_stab_avg.real)"
   ]
  },
  {
   "cell_type": "markdown",
   "id": "39c0465d",
   "metadata": {},
   "source": [
    "Now we evaluate the two kernel matrices."
   ]
  },
  {
   "cell_type": "code",
   "execution_count": null,
   "id": "2a43f39e",
   "metadata": {},
   "outputs": [],
   "source": [
    "kernel_mat_32  = kernel.K(params_32,  xs, xs)\n",
    "kernel_mat_inf = kernel.K(params_inf, xs, xs)"
   ]
  },
  {
   "cell_type": "code",
   "execution_count": null,
   "id": "4d28051a",
   "metadata": {},
   "outputs": [],
   "source": [
    "id_ = np.eye(n).reshape(1, n, n)\n",
    "id_ = grassmannian.project_to_manifold(id_)\n",
    "torus_repr = kernel.eigenfunctions._torus_representative(id_)\n",
    "kernel.eigenfunctions._zsf[7](torus_repr)"
   ]
  },
  {
   "cell_type": "code",
   "execution_count": null,
   "id": "b27153ed",
   "metadata": {},
   "outputs": [],
   "source": [
    "kernel.eigenfunctions.G_dimensions, kernel.eigenfunctions._eigenvalues"
   ]
  },
  {
   "cell_type": "code",
   "execution_count": null,
   "id": "7dd5fede",
   "metadata": {},
   "outputs": [],
   "source": [
    "kernel.eigenfunctions._addition_theorem(id_,id_)"
   ]
  },
  {
   "cell_type": "code",
   "execution_count": null,
   "id": "964ffd27",
   "metadata": {},
   "outputs": [],
   "source": [
    "xs_ = xs[:, :m, :]\n",
    "print(xs_.shape)\n",
    "args_matrix = np.einsum('...ij, ...kj->...ik', xs_,xs_)\n",
    "eigenvalues = np.linalg.eigvalsh(args_matrix)\n",
    "eigenvalues.shape"
   ]
  },
  {
   "cell_type": "code",
   "execution_count": null,
   "id": "f7c6f4ce",
   "metadata": {},
   "outputs": [],
   "source": [
    "xs_diff_xs = kernel.eigenfunctions._difference(xs, xs)\n",
    "xs_diff_xs[2][2]"
   ]
  },
  {
   "cell_type": "code",
   "execution_count": null,
   "id": "038da754",
   "metadata": {},
   "outputs": [],
   "source": [
    "np.set_printoptions(precision=3, suppress=True)\n",
    "\n",
    "xs_embed_1 = grassmannian.embed_manifold(xs)\n",
    "xs_embed_2 = grassmannian.embed_manifold(xs)\n",
    "diff = kernel.eigenfunctions.G_eigenfunctions._difference(xs_embed_1, xs_embed_2)\n",
    "print(diff[0,0])\n",
    "xs_1, xs_2 = xs_embed_1[0], xs_embed_2[0]\n",
    "xs_2.T @ xs_1"
   ]
  },
  {
   "cell_type": "code",
   "execution_count": null,
   "id": "d269153c",
   "metadata": {},
   "outputs": [],
   "source": [
    "xs_embed_2_inv = B.transpose(xs_embed_2)\n",
    "xs_embed_1_ = B.tile(xs_embed_1[..., None, :, :], 1, xs_embed_2.shape[0], 1, 1)  # (N, N2, n, n)\n",
    "xs_embed_2_inv_ = B.tile(xs_embed_2_inv[None, ..., :, :], xs_embed_1.shape[0], 1, 1, 1)  # (N, N2, n, n)\n",
    "print(xs_embed_1_.shape, xs_embed_2_inv_.shape)\n",
    "diff = B.reshape(\n",
    "    B.matmul(xs_embed_1_, xs_embed_2_inv_), xs_embed_1.shape[0], xs_embed_2.shape[0], xs_embed_1.shape[-1], xs_embed_1.shape[-1]\n",
    ")  # (N, N2, n, n)\n",
    "diff[0][0]"
   ]
  },
  {
   "cell_type": "code",
   "execution_count": null,
   "id": "9779380e",
   "metadata": {},
   "outputs": [],
   "source": [
    "xs_embed_1[0], xs_embed_2_inv[0]"
   ]
  },
  {
   "cell_type": "code",
   "execution_count": null,
   "id": "1b1ccbfd",
   "metadata": {},
   "outputs": [],
   "source": [
    "print(xs_embed_1[0],'\\n', xs_embed_2_inv[0])\n",
    "diff = np.einsum('ij,jk-> ik', xs_embed_2_inv[0], xs_embed_1[0])\n",
    "diff"
   ]
  },
  {
   "cell_type": "code",
   "execution_count": null,
   "id": "471c5aa3",
   "metadata": {},
   "outputs": [],
   "source": [
    "B.matmul(xs_embed_1_, xs_embed_2_inv_)"
   ]
  },
  {
   "cell_type": "code",
   "execution_count": null,
   "id": "56b86cc6",
   "metadata": {},
   "outputs": [],
   "source": [
    "B.transpose(xs_embed_1)[0] @ xs_embed_2[0]"
   ]
  },
  {
   "cell_type": "code",
   "execution_count": null,
   "id": "26b61633",
   "metadata": {},
   "outputs": [],
   "source": [
    "xs_diff_xs = kernel.eigenfunctions._difference(xs, xs)\n",
    "grassmannian.embed_manifold(xs)\n",
    "print(xs_diff_xs[0,0,...])\n",
    "kernel.eigenfunctions._torus_representative(xs_diff_xs[:1,:1,...])"
   ]
  },
  {
   "cell_type": "code",
   "execution_count": null,
   "id": "21f735b4",
   "metadata": {},
   "outputs": [],
   "source": [
    "grassmannian.embed_manifold(xs)[0], xs[0]"
   ]
  },
  {
   "cell_type": "code",
   "execution_count": 37,
   "id": "41a23235",
   "metadata": {},
   "outputs": [],
   "source": [
    "xs_torus = kernel.eigenfunctions._torus_representative(xs)"
   ]
  },
  {
   "cell_type": "code",
   "execution_count": null,
   "id": "f4bf933e",
   "metadata": {},
   "outputs": [],
   "source": [
    "xs.shape, g.shape"
   ]
  },
  {
   "cell_type": "code",
   "execution_count": null,
   "id": "17dd7b62",
   "metadata": {},
   "outputs": [],
   "source": [
    "N = 10000\n",
    "zsfs = kernel.eigenfunctions._zsf\n",
    "key, g = grassmannian.random(key, N, project=False)\n",
    "g_xs = np.einsum('nij,mjk->nmik', g, xs)\n",
    "g_torus = kernel.eigenfunctions._torus_representative(grassmannian.project_to_manifold(g))\n",
    "g_xs_torus = kernel.eigenfunctions._torus_representative(g_xs)\n",
    "for zsf in zsfs:\n",
    "    zsf_g_xs = zsf(g_xs_torus)\n",
    "    zsf_g = zsf(g_torus)\n",
    "    zsf_xs_alt = np.einsum('in,i->n', zsf_g_xs, zsf_g)/N\n",
    "    zsf_xs = zsf(xs_torus)\n",
    "    print(zsf_xs_alt/zsf_xs)\n"
   ]
  },
  {
   "cell_type": "code",
   "execution_count": null,
   "id": "c47daf12",
   "metadata": {},
   "outputs": [],
   "source": [
    "xs_embed = grassmannian.embed_manifold(xs)\n",
    "diff = kernel.eigenfunctions.G_eigenfunctions._difference(xs_embed, xs_embed)\n",
    "diff[0][2]"
   ]
  },
  {
   "cell_type": "code",
   "execution_count": null,
   "id": "a3f275ff",
   "metadata": {},
   "outputs": [],
   "source": [
    "torus_repr = kernel.eigenfunctions._torus_representative(diff)\n",
    "torus_repr\n"
   ]
  },
  {
   "cell_type": "markdown",
   "id": "c35e2625",
   "metadata": {},
   "source": [
    "Finally, we visualize these matrices using `imshow`."
   ]
  },
  {
   "cell_type": "code",
   "execution_count": null,
   "id": "c48c0d1e",
   "metadata": {},
   "outputs": [],
   "source": [
    "# find common range of values\n",
    "minmin = np.min([np.min(kernel_mat_32), np.min(kernel_mat_inf)])\n",
    "maxmax = np.max([np.max(kernel_mat_32), np.max(kernel_mat_inf)])\n",
    "\n",
    "fig, (ax1, ax2) = plt.subplots(nrows=1, ncols=2)\n",
    "cmap = plt.get_cmap('viridis')\n",
    "\n",
    "ax1.imshow(kernel_mat_32, vmin=minmin, vmax=maxmax, cmap=cmap)\n",
    "ax1.set_title('k_32')\n",
    "ax1.set_axis_off()\n",
    "\n",
    "ax2.imshow(kernel_mat_inf, vmin=minmin, vmax=maxmax, cmap=cmap)\n",
    "ax2.set_title('k_inf')\n",
    "ax2.set_axis_off()\n",
    "\n",
    "# add space for color bar\n",
    "fig.subplots_adjust(right=0.85)\n",
    "cbar_ax = fig.add_axes([0.88, 0.25, 0.02, 0.5])\n",
    "\n",
    "# add colorbar\n",
    "sm = plt.cm.ScalarMappable(cmap=cmap,\n",
    "                           norm=plt.Normalize(vmin=minmin, vmax=maxmax))\n",
    "fig.colorbar(sm, cax=cbar_ax)\n",
    "\n",
    "plt.show()"
   ]
  },
  {
   "cell_type": "markdown",
   "id": "8e4a8bb5",
   "metadata": {},
   "source": [
    "### Visualize Kernels"
   ]
  },
  {
   "cell_type": "markdown",
   "id": "835a1002",
   "metadata": {},
   "source": [
    "It is hard to visualize functions on $\\mathrm{Gr}(m, n)$.\n",
    "Functions are only easy to visualize on domains of dimension not higher than $2$.\n",
    "However, we have $\\dim \\left(\\mathrm{Gr}(m, n)\\right) = m(n-m)$ which is greater than $2$ in almost all cases.\n",
    "\n",
    "In [Stiefel.ipynb](./Stiefel.ipynb), we visualize functions on the Stiefel manifold $\\mathrm{V}(m, n)$. Since all elements of the Grassmannian $\\mathrm{Gr}(m, n)$ are equivalence classes of elements of $\\mathrm{V}(m, n)$, we can use the same visualization trick as in [Stiefel.ipynb](./Stiefel.ipynb). It is important to be mindful of the fact that we might stumble upon elements of $\\mathrm{V}(m, n)$ that represent the same element of $\\mathrm{Gr}(m, n)$."
   ]
  },
  {
   "cell_type": "code",
   "execution_count": 29,
   "id": "77c8e92e",
   "metadata": {},
   "outputs": [],
   "source": [
    "# define discretization\n",
    "_NUM_ANGLES = 128\n",
    "\n",
    "key, U = grassmannian.G.random(key, 2)  # stiefel.G returns an object representing SO(n)\n",
    "U1 = U[0, :]\n",
    "U2 = U[1, :]\n",
    "\n",
    "# generate a grid on [0, 2 \\pi)\n",
    "angles = np.linspace(0, 2*np.pi, num=_NUM_ANGLES)\n",
    "embedding = np.broadcast_to(np.eye(n), (_NUM_ANGLES, n, n)).copy()\n",
    "embedding[:, 0, 0] = np.cos(angles)\n",
    "embedding[:, 0, 1] = -np.sin(angles)\n",
    "embedding[:, 1, 0] = np.sin(angles)\n",
    "embedding[:, 1, 1] = np.cos(angles)\n",
    "\n",
    "base_point = grassmannian.project_to_manifold(embedding[[0], :, :])\n",
    "\n",
    "def conj_batch(U, emb):\n",
    "    \"\"\" Compute U^T * emb[i, :] * U for all i.\n",
    "    :param U:   [n, n] array\n",
    "    :param emb: [N, n, n] array\n",
    "    \n",
    "    :return:    [N, n, n] array\n",
    "    \"\"\"\n",
    "    return np.tensordot(np.tensordot(emb, U, axes=([2], [0])),\n",
    "                        U.T, axes=([1], [1])\n",
    "                       )\n",
    "\n",
    "other_points1 = grassmannian.project_to_manifold(conj_batch(U1, embedding))\n",
    "other_points2 = grassmannian.project_to_manifold(conj_batch(U2, embedding))"
   ]
  },
  {
   "cell_type": "markdown",
   "id": "07275c76",
   "metadata": {},
   "source": [
    "The next cell evaluates $k_{\\nu, \\kappa}($ `base_point` $, x)$ for $x \\in $ `other_points1` and $x \\in $ `other_points2`, for $\\nu$ either $3/2$ or $\\infty$."
   ]
  },
  {
   "cell_type": "code",
   "execution_count": null,
   "id": "528594cb",
   "metadata": {},
   "outputs": [],
   "source": [
    "kernel_vals_32_1  = kernel.K(params_32,  base_point, other_points1)\n",
    "kernel_vals_32_2  = kernel.K(params_32,  base_point, other_points2)\n",
    "kernel_vals_inf_1 = kernel.K(params_inf, base_point, other_points1)\n",
    "kernel_vals_inf_2 = kernel.K(params_inf, base_point, other_points2)"
   ]
  },
  {
   "cell_type": "markdown",
   "id": "fb65e8d7",
   "metadata": {},
   "source": [
    "Finally, we are ready to plot the results."
   ]
  },
  {
   "cell_type": "code",
   "execution_count": null,
   "id": "aa9bbaf3-06c0-432e-8527-1b8aebf322a7",
   "metadata": {
    "tags": []
   },
   "outputs": [],
   "source": [
    "x_circle = np.cos(angles)\n",
    "y_circle = np.sin(angles)\n",
    "z_circle = np.zeros_like(angles) # z=0 for the circle\n",
    "\n",
    "# Red ball position\n",
    "red_ball_position = (x_circle[0], y_circle[0], z_circle[0])\n",
    "\n",
    "\n",
    "def plot_kernel(ax, values, title):\n",
    "    # Draw the unit circle\n",
    "    ax.plot(x_circle, y_circle, z_circle, linestyle='dashed', color='gray')\n",
    "    # Draw the red ball\n",
    "    ax.scatter(*red_ball_position, color=\"r\", s=50)\n",
    "    # Draw the vertical dashed line\n",
    "    ax.plot([1, 1], [0, 0], np.linspace(0, values[0, 0], 2), linestyle='dashed', color='gray')\n",
    "    # Plot the new function evaluated only on the unit circle\n",
    "    ax.plot(x_circle, y_circle, values[0, :], color='b')\n",
    "    # Set the viewing angle for better visualization\n",
    "    ax.view_init(elev=20., azim=180+30)\n",
    "    ax.set_title(title)\n",
    "\n",
    "fig, ((ax1, ax2), (ax3, ax4)) = plt.subplots(figsize=(12.8, 9.6), nrows=2, ncols=2,\n",
    "                               subplot_kw=dict(projection='3d',\n",
    "                                               computed_zorder=False))\n",
    "\n",
    "plot_kernel(ax1, kernel_vals_32_1,  r'$k_{3/2, \\kappa}($base_point, other_points1$)$')\n",
    "plot_kernel(ax2, kernel_vals_32_2,  r'$k_{3/2, \\kappa}($base_point, other_points2$)$')\n",
    "plot_kernel(ax3, kernel_vals_inf_1, r'$k_{\\infty, \\kappa}($base_point, other_points1$)$')\n",
    "plot_kernel(ax4, kernel_vals_inf_2, r'$k_{\\infty, \\kappa}($base_point, other_points2$)$')\n",
    "\n",
    "\n",
    "# Display the plot\n",
    "plt.show()"
   ]
  },
  {
   "cell_type": "markdown",
   "id": "08cac3cc-63c6-4057-a8ca-3c645dad2d9e",
   "metadata": {},
   "source": [
    "## Feature Maps and Sampling\n",
    "\n",
    "Here we show how to get an approximate finite-dimensional feature map for heat and Matérn kernels on the sphere, i.e. such $\\phi$ that\n",
    "$$\n",
    "k(x, x') \\approx \\langle \\phi(x), \\phi(x') \\rangle_{\\mathbb{R}^M}.\n",
    "$$\n",
    "This might be useful for speeding up computations.\n",
    "We showcase this below by showing how to efficiently sample the Gaussian process $\\mathrm{GP}(0, k)$.\n",
    "\n",
    "For a brief theoretical introduction into feature maps, see this [documentation page](https://gpflow.github.io/GeometricKernels/theory/feature_maps.html)."
   ]
  },
  {
   "cell_type": "markdown",
   "id": "b650b7e4-c4d0-4c29-acad-d70804ac2584",
   "metadata": {},
   "source": [
    "### Defining a Feature Map"
   ]
  },
  {
   "cell_type": "markdown",
   "id": "b680d361-cd9f-4ad6-9314-0610280d9a97",
   "metadata": {},
   "source": [
    "The simplest way to get an approximate finite-dimensional feature map is to use the `default_feature_map` function from `geometric_kernels.kernels`.\n",
    "It has an optional keyword argument `num` which determines the number of features, the $M$ above.\n",
    "Below we rely on the default value of `num`."
   ]
  },
  {
   "cell_type": "code",
   "execution_count": 32,
   "id": "8b3ba4f0-5a1b-4ce8-8986-be6563bd8a40",
   "metadata": {},
   "outputs": [],
   "source": [
    "from geometric_kernels.kernels import default_feature_map\n",
    "\n",
    "feature_map = default_feature_map(kernel=kernel)"
   ]
  },
  {
   "cell_type": "markdown",
   "id": "fed4a182-6dc0-4826-8cca-ba49c8fdaee3",
   "metadata": {},
   "source": [
    "The resulting `feature_map` is a function that takes the array of inputs and parameters of the kernel.\n",
    "There is also an optional parameter `normalize` that determines if $\\langle \\phi(x), \\phi(x) \\rangle_{\\mathbb{R}^M} \\approx 1$ or not.\n",
    "For the (hyper)sphere, `normalize` follows the standard behavior of `MaternKarhunenLoeveKernel`, being `True` by default.\n",
    "\n",
    "`feature_map` outputs a tuple.\n",
    "Its **second** element is $\\phi(x)$ evaluated at all inputs $x$.\n",
    "Its first element is either `None` for determinstic feature maps, or contains the updated `key` for randomized feature maps which take `key` as a keyword argument.\n",
    "For `default_feature_map` on a `Grassmannian` space, the first element is `key` since the feature map is *random*.\n",
    "\n",
    "In the next cell, we evaluate the feature map at random points, using `params_32` as kernel parameters.\n",
    "We check the basic property of the feature map: $k(x, x') \\approx \\langle \\phi(x), \\phi(x') \\rangle_{\\mathbb{R}^M}$."
   ]
  },
  {
   "cell_type": "code",
   "execution_count": null,
   "id": "6602d412-e9b6-48db-802c-27b876a15be2",
   "metadata": {},
   "outputs": [],
   "source": [
    "# xs are random points from above\n",
    "key, embedding = feature_map(xs, params_32, key=key)\n",
    "\n",
    "print('xs (shape = %s):\\n%s' % (xs.shape, xs))\n",
    "print('')\n",
    "print('emedding (shape = %s):\\n%s' % (embedding.shape, embedding))\n",
    "\n",
    "kernel_mat_32  = kernel.K(params_32,  xs, xs)\n",
    "kernel_mat_32_alt = np.matmul(embedding, embedding.T)\n",
    "\n",
    "print('')\n",
    "print('||k(xs, xs) - phi(xs) * phi(xs)^T||/||k(xs, xs)|| =', np.linalg.norm(kernel_mat_32 - kernel_mat_32_alt)/np.linalg.norm(kernel_mat_32))"
   ]
  },
  {
   "cell_type": "markdown",
   "id": "79e35b11-4cb3-479b-8d58-f4fa721ff528",
   "metadata": {},
   "source": [
    "**Unfortunately:** $k(x, x') \\approx \\langle \\phi(x), \\phi(x') \\rangle_{\\mathbb{R}^M}$ does not hold, which is either caused by a bug or by the insufficiency of the default approximation order in this case. **TODO:** investigate this."
   ]
  },
  {
   "cell_type": "markdown",
   "id": "43728ac5-8277-4436-86c7-e6e97e434ec3",
   "metadata": {},
   "source": [
    "### Efficient Sampling using Feature Maps\n",
    "\n",
    "GeometricKernels provides a simple tool to efficiently sample (without incurring cubic costs) the Gaussian process $f \\sim \\mathrm{GP}(0, k)$, based on an approximate finite-dimensional feature map $\\phi$.\n",
    "The underlying machinery is briefly discussed in this [documentation page](https://gpflow.github.io/GeometricKernels/theory/feature_maps.html).\n",
    "\n",
    "The function `sampler` from `geometric_kernels.sampling` takes in a feature map and, optionally, the keyword argument `s` that specifies the number of samples to generate.\n",
    "It returns a function we name `sample_paths`.\n",
    "Since we are going to compute each of the two samples at two different sets of inputs, `other_points1` and `other_points2`, we make sure the randomness if fixed by using the `make_deterministic` function.\n",
    "\n",
    "`sample_paths` operates much like `feature_map` above: it takes in the points where to evaluate the samples and kernel parameters.\n",
    "Additionally, it takes in the keyword argument `key` that specifies randomness in the JAX style.\n",
    "**However**, in our specific case, this keyword argument is not needed as it is automatically supplied by the `make_deterministic` wrapper.\n",
    "`sample_paths` returns a tuple.\n",
    "Its first element is the updated `key`.\n",
    "Its second element is an array containing the value of samples evaluated at the input points."
   ]
  },
  {
   "cell_type": "code",
   "execution_count": null,
   "id": "78922dda-ae2d-4bc1-b28a-b4dc9424fd07",
   "metadata": {},
   "outputs": [],
   "source": [
    "from geometric_kernels.sampling import sampler\n",
    "from geometric_kernels.utils.utils import make_deterministic\n",
    "\n",
    "# introduce random state for reproducibility (optional)\n",
    "# `key` is jax's terminology\n",
    "key = np.random.RandomState(seed=1234)\n",
    "\n",
    "sample_paths = make_deterministic(sampler(feature_map, s=2), key)\n",
    "\n",
    "# new random state is returned along with the samples\n",
    "key, samples = sample_paths(xs, params_32)\n",
    "\n",
    "print('Two samples evaluated at the xs are:')\n",
    "print(samples)"
   ]
  },
  {
   "cell_type": "markdown",
   "id": "dadb7a46-427a-475c-bc6e-0891c8d87c7c",
   "metadata": {},
   "source": [
    "#### Visualizing Samples\n",
    "Here we visualize samples as functions on the sphere."
   ]
  },
  {
   "cell_type": "code",
   "execution_count": null,
   "id": "baf674e9-910e-494b-8abb-0069c7df31c8",
   "metadata": {},
   "outputs": [],
   "source": [
    "key, samples_other_points1 = sample_paths(other_points1, params_32)\n",
    "key, samples_other_points2 = sample_paths(other_points2, params_32)\n",
    "\n",
    "sample1_other_points1 = samples_other_points1[:, 0]\n",
    "sample2_other_points1 = samples_other_points1[:, 1]\n",
    "sample1_other_points2 = samples_other_points2[:, 0]\n",
    "sample2_other_points2 = samples_other_points2[:, 1]\n",
    "\n",
    "x_circle = np.cos(angles)\n",
    "y_circle = np.sin(angles)\n",
    "z_circle = np.zeros_like(angles) # z=0 for the circle\n",
    "\n",
    "def plot_sample(ax, values, title):\n",
    "    # Draw the unit circle\n",
    "    ax.plot(x_circle, y_circle, z_circle, linestyle='dashed', color='gray')\n",
    "    # Plot the new function evaluated only on the unit circle\n",
    "    ax.plot(x_circle, y_circle, values, color='b')\n",
    "    # Set the viewing angle for better visualization\n",
    "    ax.view_init(elev=20., azim=180+30)\n",
    "    ax.set_title(title)\n",
    "\n",
    "fig, ((ax1, ax2), (ax3, ax4)) = plt.subplots(figsize=(12.8, 9.6), nrows=2, ncols=2,\n",
    "                               subplot_kw=dict(projection='3d',\n",
    "                                               computed_zorder=False))\n",
    "\n",
    "plot_sample(ax1, samples_other_points1[:, 0], r'Sample #1: $f(\\cdot)$ for $\\cdot$ in other_points1, $f \\sim \\mathrm{GP}(0, k_{3/2, \\kappa})$')\n",
    "plot_sample(ax2, samples_other_points2[:, 0], r'Sample #1: $f(\\cdot)$ for $\\cdot$ in other_points2, $f \\sim \\mathrm{GP}(0, k_{3/2, \\kappa})$')\n",
    "plot_sample(ax3, samples_other_points1[:, 1], r'Sample #2: $f(\\cdot)$ for $\\cdot$ in other_points1, $f \\sim \\mathrm{GP}(0, k_{3/2, \\kappa})$')\n",
    "plot_sample(ax4, samples_other_points2[:, 1], r'Sample #2: $f(\\cdot)$ for $\\cdot$ in other_points2, $f \\sim \\mathrm{GP}(0, k_{3/2, \\kappa})$')\n",
    "\n",
    "\n",
    "# Display the plot\n",
    "plt.show()"
   ]
  },
  {
   "cell_type": "markdown",
   "id": "90c39b78-0f1e-4058-9c05-7f0bf566b33d",
   "metadata": {},
   "source": [
    "## The Simplest Special Case: Real Projective Space $\\mathrm{RP}^3$"
   ]
  },
  {
   "cell_type": "markdown",
   "id": "2b9b4ae2-3b70-46ea-bc34-8e9d856260ba",
   "metadata": {},
   "source": [
    "Here we visualize the kernel and samples in the simplest special case, for the real projective space $\\mathrm{RP}^3$ that can be thought of as the standard two-dimensional sphere for which every pair of opposite points, i.e. $x$ and $-x$, is identified. In this case, we can visualize functions on $\\mathrm{RP}^3$ as functions on the $2$-dimensional sphere."
   ]
  },
  {
   "cell_type": "code",
   "execution_count": null,
   "id": "d73fc26b-8c3d-4a76-9336-51b967f1a423",
   "metadata": {
    "tags": []
   },
   "outputs": [],
   "source": [
    "key = np.random.RandomState(1234)\n",
    "\n",
    "projective = Grassmannian(m=1, n=3, key=key)\n",
    "\n",
    "kernel_projective = MaternGeometricKernel(projective)\n",
    "\n",
    "params_32  = {\"lengthscale\": np.array([0.125]), \"nu\": np.array([3/2])}\n",
    "params_inf = {\"lengthscale\": np.array([0.125]), \"nu\": np.array([np.inf])}"
   ]
  },
  {
   "cell_type": "markdown",
   "id": "634b046d-d10b-467a-8b32-ba6a9fdd433f",
   "metadata": {},
   "source": [
    "### Visualize Kernels\n",
    "We use the same code as in [Hypersphere.ipynb](./Hypersphere.ipynb)."
   ]
  },
  {
   "cell_type": "code",
   "execution_count": null,
   "id": "3420d0a6-943d-44b5-a782-4a35c955a8d1",
   "metadata": {},
   "outputs": [],
   "source": [
    "base_point = np.array([[0.0, 0.0, 1.0]])\n",
    "\n",
    "# define latitude and longitude discretization\n",
    "_NUM_LATS = 128\n",
    "_NUM_LONGS = 128\n",
    "\n",
    "# generate a grid on the sphere\n",
    "lats, longs =  np.mgrid[0:2*np.pi:_NUM_LATS*1j, 0:np.pi:_NUM_LONGS*1j]\n",
    "\n",
    "other_points_xs = np.sin(longs) * np.cos(lats)\n",
    "other_points_ys = np.sin(longs) * np.sin(lats)\n",
    "other_points_zs = np.cos(longs)\n",
    "\n",
    "other_points = np.c_[np.ravel(other_points_xs),\n",
    "                     np.ravel(other_points_ys),\n",
    "                     np.ravel(other_points_zs)]\n",
    "\n",
    "# The elements of `projective` are matrices 3x1 rather than 3-dim vectors.\n",
    "base_point = base_point[..., np.newaxis]\n",
    "other_points = other_points[..., np.newaxis]\n",
    "\n",
    "\n",
    "kernel_vals_32  = kernel_projective.K(params_32,  base_point, other_points)\n",
    "kernel_vals_inf = kernel_projective.K(params_inf, base_point, other_points)\n",
    "\n",
    "fig, (ax1, ax2) = plt.subplots(figsize=(12.8, 4.8), nrows=1, ncols=2,\n",
    "                               subplot_kw=dict(projection='3d',\n",
    "                                               computed_zorder=False))\n",
    "\n",
    "cmap = plt.get_cmap('viridis')\n",
    "\n",
    "surf1 = ax1.plot_surface(other_points_xs, other_points_ys, other_points_zs,\n",
    "                         facecolors=cmap(kernel_vals_32[0, :].reshape(_NUM_LATS, _NUM_LONGS)),  cstride=1, rstride=1)\n",
    "surf2 = ax2.plot_surface(other_points_xs, other_points_ys, other_points_zs,\n",
    "                         facecolors=cmap(kernel_vals_inf[0, :].reshape(_NUM_LATS, _NUM_LONGS)), cstride=1, rstride=1)\n",
    "\n",
    "# Remove axis\n",
    "ax1._axis3don = False\n",
    "ax2._axis3don = False\n",
    "\n",
    "# Set aspect ratio\n",
    "ax1.set_box_aspect((np.ptp(other_points_xs), np.ptp(other_points_ys),\n",
    "                    np.ptp(other_points_zs)), zoom=1.5)\n",
    "ax2.set_box_aspect((np.ptp(other_points_xs), np.ptp(other_points_ys),\n",
    "                    np.ptp(other_points_zs)), zoom=1.5)\n",
    "\n",
    "# plot the base point\n",
    "ax1.scatter(base_point[0, 0], base_point[0, 1], base_point[0, 2], s=10, c='r', marker='D')\n",
    "ax2.scatter(base_point[0, 0], base_point[0, 1], base_point[0, 2], s=10, c='r', marker='D')\n",
    "\n",
    "# find common range of values\n",
    "minmin_vis = np.min([np.min(kernel_vals_32), np.min(kernel_vals_inf)])\n",
    "maxmax_vis = np.max([np.max(kernel_vals_32), np.max(kernel_vals_inf)])\n",
    "\n",
    "ax1.set_title(r'$k_{3/2, \\kappa}($base_point, other_points$)$')\n",
    "ax2.set_title('$k_{\\infty, \\kappa}($base_point, other_points$)$')\n",
    "\n",
    "# add color bar\n",
    "sm = plt.cm.ScalarMappable(cmap=cmap,\n",
    "                           norm=plt.Normalize(vmin=minmin_vis, vmax=maxmax_vis))\n",
    "fig.subplots_adjust(right=0.85)\n",
    "cbar_ax = fig.add_axes([0.88, 0.25, 0.02, 0.5])\n",
    "fig.colorbar(sm, cax=cbar_ax)\n",
    "\n",
    "plt.show()"
   ]
  },
  {
   "cell_type": "markdown",
   "id": "7717fef5-a27a-495a-b77d-dd267831c3d9",
   "metadata": {
    "tags": []
   },
   "source": [
    "### Visualize Samples\n",
    "We use the same code as in [Hypersphere.ipynb](./Hypersphere.ipynb)."
   ]
  },
  {
   "cell_type": "code",
   "execution_count": null,
   "id": "7b86da3d-25e4-4681-9ccb-994be5fe76dc",
   "metadata": {},
   "outputs": [],
   "source": [
    "from geometric_kernels.kernels import default_feature_map\n",
    "from geometric_kernels.sampling import sampler\n",
    "\n",
    "feature_map = default_feature_map(kernel=kernel_projective)\n",
    "sample_paths = sampler(feature_map, s=2)\n",
    "\n",
    "key = np.random.RandomState(seed=1234)\n",
    "key, samples = sample_paths(other_points, params_32, key=key)\n",
    "\n",
    "sample1 = samples[:, 0]\n",
    "sample2 = samples[:, 1]\n",
    "\n",
    "fig, (ax1, ax2) = plt.subplots(figsize=(12.8, 4.8), nrows=1, ncols=2,\n",
    "                               subplot_kw=dict(projection='3d',\n",
    "                                               computed_zorder=False))\n",
    "\n",
    "cmap = plt.get_cmap('viridis')\n",
    "\n",
    "surf1 = ax1.plot_surface(other_points_xs, other_points_ys, other_points_zs,\n",
    "                         facecolors=cmap(sample1.reshape(_NUM_LATS, _NUM_LONGS)),  cstride=1, rstride=1)\n",
    "surf2 = ax2.plot_surface(other_points_xs, other_points_ys, other_points_zs,\n",
    "                         facecolors=cmap(sample2.reshape(_NUM_LATS, _NUM_LONGS)), cstride=1, rstride=1)\n",
    "\n",
    "# Remove axis\n",
    "ax1._axis3don = False\n",
    "ax2._axis3don = False\n",
    "\n",
    "# Set aspect ratio\n",
    "ax1.set_box_aspect((np.ptp(other_points_xs), np.ptp(other_points_ys),\n",
    "                    np.ptp(other_points_zs)), zoom=1.5)\n",
    "ax2.set_box_aspect((np.ptp(other_points_xs), np.ptp(other_points_ys),\n",
    "                    np.ptp(other_points_zs)), zoom=1.5)\n",
    "\n",
    "# find common range of values\n",
    "minmin_vis = np.min([np.min(sample1), np.min(sample2)])\n",
    "maxmax_vis = np.max([np.max(sample1), np.max(sample2)])\n",
    "\n",
    "ax1.set_title('Sample #1: $f(\\cdot)$ for $\\cdot$ in other_points, $f \\sim \\mathrm{GP}(0, k_{3/2, \\kappa})$')\n",
    "ax2.set_title('Sample #2: $f(\\cdot)$ for $\\cdot$ in other_points, $f \\sim \\mathrm{GP}(0, k_{3/2, \\kappa})$')\n",
    "\n",
    "# add color bar\n",
    "sm = plt.cm.ScalarMappable(cmap=cmap,\n",
    "                           norm=plt.Normalize(vmin=minmin_vis, vmax=maxmax_vis))\n",
    "fig.subplots_adjust(right=0.85)\n",
    "cbar_ax = fig.add_axes([0.88, 0.25, 0.02, 0.5])\n",
    "fig.colorbar(sm, cax=cbar_ax)\n",
    "plt.show()"
   ]
  },
  {
   "cell_type": "markdown",
   "id": "542e43c7",
   "metadata": {},
   "source": [
    "## Citation\n",
    "\n",
    "If you are using Lie groups and GeometricKernels, please consider citing\n",
    "\n",
    "```\n",
    "@article{azangulov2022,\n",
    "    title={Stationary kernels and Gaussian processes on Lie groups and their homogeneous spaces I: the compact case},\n",
    "    author={Azangulov, Iskander and Smolensky, Andrei and Terenin, Alexander and Borovitskiy, Viacheslav},\n",
    "    journal={arXiv preprint arXiv:2208.14960},\n",
    "    year={2022}\n",
    "}\n",
    "```"
   ]
  },
  {
   "cell_type": "code",
   "execution_count": null,
   "id": "558cae08",
   "metadata": {},
   "outputs": [],
   "source": []
  }
 ],
 "metadata": {
  "kernelspec": {
   "display_name": ".venv",
   "language": "python",
   "name": "python3"
  },
  "language_info": {
   "codemirror_mode": {
    "name": "ipython",
    "version": 3
   },
   "file_extension": ".py",
   "mimetype": "text/x-python",
   "name": "python",
   "nbconvert_exporter": "python",
   "pygments_lexer": "ipython3",
   "version": "3.12.7"
  }
 },
 "nbformat": 4,
 "nbformat_minor": 5
}
